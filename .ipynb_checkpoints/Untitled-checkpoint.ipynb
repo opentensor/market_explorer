{
 "cells": [
  {
   "cell_type": "code",
   "execution_count": 61,
   "id": "3682fcff-4c35-4473-bcad-20c785cac605",
   "metadata": {},
   "outputs": [],
   "source": [
    "import bittensor\n",
    "import json\n",
    "import torch"
   ]
  },
  {
   "cell_type": "code",
   "execution_count": 12,
   "id": "49c2e174-505e-471b-9f87-e715a2622a0e",
   "metadata": {},
   "outputs": [],
   "source": [
    "sub = bittensor.subtensor( network = 'nakamoto' )"
   ]
  },
  {
   "cell_type": "code",
   "execution_count": 15,
   "id": "7af5328e-b67b-4b24-bd05-38c10a4d7c4f",
   "metadata": {},
   "outputs": [],
   "source": [
    "graph = bittensor.metagraph().load()"
   ]
  },
  {
   "cell_type": "code",
   "execution_count": 21,
   "id": "1af5bd6a-9247-458f-9ee8-55f6183885b5",
   "metadata": {},
   "outputs": [
    {
     "data": {
      "text/plain": [
       "Metagraph(1379, 148505, nakamoto)"
      ]
     },
     "execution_count": 21,
     "metadata": {},
     "output_type": "execute_result"
    }
   ],
   "source": [
    "graph"
   ]
  },
  {
   "cell_type": "code",
   "execution_count": 92,
   "id": "0bf3b355-71e0-49e2-9057-ff3851588b40",
   "metadata": {},
   "outputs": [],
   "source": [
    "links = []\n",
    "nodes = {}\n",
    "\n",
    "n = 100\n",
    "k = 3\n",
    "\n",
    "for uid_i in graph.uids[:n].tolist()[:n]:\n",
    "    if uid_i not in nodes:\n",
    "        nodes[uid_i] = { 'id': uid_i, 'uid': uid_i}\n",
    "    topk_wij, indices = torch.topk( graph.W[uid][:n], k )\n",
    "    for w_ij, uid_j in list(zip(topk_wij.tolist(), indices.tolist())):\n",
    "        links.append( {'source': uid_i, 'target': uid_j, 'opacity': 1/w_ij} )\n",
    "        if uid_j not in nodes:\n",
    "            nodes[uid_j] = { 'id': uid_j }\n",
    "\n",
    "json_prep = {\"nodes\":list(nodes.values()), \"links\":links}\n",
    "json_dump = json.dumps(json_prep, indent=1, sort_keys=True)\n",
    "filename_out = 'd3graph.json'\n",
    "json_out = open(filename_out,'w')\n",
    "json_out.write(json_dump)\n",
    "json_out.close()\n"
   ]
  },
  {
   "cell_type": "code",
   "execution_count": 87,
   "id": "c72240b1-0bb1-4c5a-876e-345b37458136",
   "metadata": {},
   "outputs": [
    {
     "name": "stdout",
     "output_type": "stream",
     "text": [
      "{0: {'id': 0, 'user': 0, 'description': 0}, 80: {'id': 80, 'user': 80, 'description': 80}, 57: {'id': 57, 'user': 57, 'description': 57}, 98: {'id': 98, 'user': 98, 'description': 98}, 1: {'id': 1, 'user': 1, 'description': 1}, 2: {'id': 2, 'user': 2, 'description': 2}, 3: {'id': 3, 'user': 3, 'description': 3}, 4: {'id': 4, 'user': 4, 'description': 4}, 5: {'id': 5, 'user': 5, 'description': 5}, 6: {'id': 6, 'user': 6, 'description': 6}, 7: {'id': 7, 'user': 7, 'description': 7}, 8: {'id': 8, 'user': 8, 'description': 8}, 9: {'id': 9, 'user': 9, 'description': 9}, 10: {'id': 10, 'user': 10, 'description': 10}, 11: {'id': 11, 'user': 11, 'description': 11}, 12: {'id': 12, 'user': 12, 'description': 12}, 13: {'id': 13, 'user': 13, 'description': 13}, 14: {'id': 14, 'user': 14, 'description': 14}, 15: {'id': 15, 'user': 15, 'description': 15}, 16: {'id': 16, 'user': 16, 'description': 16}, 17: {'id': 17, 'user': 17, 'description': 17}, 18: {'id': 18, 'user': 18, 'description': 18}, 19: {'id': 19, 'user': 19, 'description': 19}, 20: {'id': 20, 'user': 20, 'description': 20}, 21: {'id': 21, 'user': 21, 'description': 21}, 22: {'id': 22, 'user': 22, 'description': 22}, 23: {'id': 23, 'user': 23, 'description': 23}, 24: {'id': 24, 'user': 24, 'description': 24}, 25: {'id': 25, 'user': 25, 'description': 25}, 26: {'id': 26, 'user': 26, 'description': 26}, 27: {'id': 27, 'user': 27, 'description': 27}, 28: {'id': 28, 'user': 28, 'description': 28}, 29: {'id': 29, 'user': 29, 'description': 29}, 30: {'id': 30, 'user': 30, 'description': 30}, 31: {'id': 31, 'user': 31, 'description': 31}, 32: {'id': 32, 'user': 32, 'description': 32}, 33: {'id': 33, 'user': 33, 'description': 33}, 34: {'id': 34, 'user': 34, 'description': 34}, 35: {'id': 35, 'user': 35, 'description': 35}, 36: {'id': 36, 'user': 36, 'description': 36}, 37: {'id': 37, 'user': 37, 'description': 37}, 38: {'id': 38, 'user': 38, 'description': 38}, 39: {'id': 39, 'user': 39, 'description': 39}, 40: {'id': 40, 'user': 40, 'description': 40}, 41: {'id': 41, 'user': 41, 'description': 41}, 42: {'id': 42, 'user': 42, 'description': 42}, 43: {'id': 43, 'user': 43, 'description': 43}, 44: {'id': 44, 'user': 44, 'description': 44}, 45: {'id': 45, 'user': 45, 'description': 45}, 46: {'id': 46, 'user': 46, 'description': 46}, 47: {'id': 47, 'user': 47, 'description': 47}, 48: {'id': 48, 'user': 48, 'description': 48}, 49: {'id': 49, 'user': 49, 'description': 49}, 50: {'id': 50, 'user': 50, 'description': 50}, 51: {'id': 51, 'user': 51, 'description': 51}, 52: {'id': 52, 'user': 52, 'description': 52}, 53: {'id': 53, 'user': 53, 'description': 53}, 54: {'id': 54, 'user': 54, 'description': 54}, 55: {'id': 55, 'user': 55, 'description': 55}, 56: {'id': 56, 'user': 56, 'description': 56}, 58: {'id': 58, 'user': 58, 'description': 58}, 59: {'id': 59, 'user': 59, 'description': 59}, 60: {'id': 60, 'user': 60, 'description': 60}, 61: {'id': 61, 'user': 61, 'description': 61}, 62: {'id': 62, 'user': 62, 'description': 62}, 63: {'id': 63, 'user': 63, 'description': 63}, 64: {'id': 64, 'user': 64, 'description': 64}, 65: {'id': 65, 'user': 65, 'description': 65}, 66: {'id': 66, 'user': 66, 'description': 66}, 67: {'id': 67, 'user': 67, 'description': 67}, 68: {'id': 68, 'user': 68, 'description': 68}, 69: {'id': 69, 'user': 69, 'description': 69}, 70: {'id': 70, 'user': 70, 'description': 70}, 71: {'id': 71, 'user': 71, 'description': 71}, 72: {'id': 72, 'user': 72, 'description': 72}, 73: {'id': 73, 'user': 73, 'description': 73}, 74: {'id': 74, 'user': 74, 'description': 74}, 75: {'id': 75, 'user': 75, 'description': 75}, 76: {'id': 76, 'user': 76, 'description': 76}, 77: {'id': 77, 'user': 77, 'description': 77}, 78: {'id': 78, 'user': 78, 'description': 78}, 79: {'id': 79, 'user': 79, 'description': 79}, 81: {'id': 81, 'user': 81, 'description': 81}, 82: {'id': 82, 'user': 82, 'description': 82}, 83: {'id': 83, 'user': 83, 'description': 83}, 84: {'id': 84, 'user': 84, 'description': 84}, 85: {'id': 85, 'user': 85, 'description': 85}, 86: {'id': 86, 'user': 86, 'description': 86}, 87: {'id': 87, 'user': 87, 'description': 87}, 88: {'id': 88, 'user': 88, 'description': 88}, 89: {'id': 89, 'user': 89, 'description': 89}, 90: {'id': 90, 'user': 90, 'description': 90}, 91: {'id': 91, 'user': 91, 'description': 91}, 92: {'id': 92, 'user': 92, 'description': 92}, 93: {'id': 93, 'user': 93, 'description': 93}, 94: {'id': 94, 'user': 94, 'description': 94}, 95: {'id': 95, 'user': 95, 'description': 95}, 96: {'id': 96, 'user': 96, 'description': 96}, 97: {'id': 97, 'user': 97, 'description': 97}, 99: {'id': 99, 'user': 99, 'description': 99}}\n"
     ]
    }
   ],
   "source": [
    "print (nodes)"
   ]
  },
  {
   "cell_type": "code",
   "execution_count": 88,
   "id": "c098eab4-8088-4b6a-a28c-b3021f62471c",
   "metadata": {},
   "outputs": [
    {
     "name": "stdout",
     "output_type": "stream",
     "text": [
      "[{'source': 0, 'target': 80, 'opacity': 0.049045659601688385}, {'source': 0, 'target': 57, 'opacity': 0.04070887342095375}, {'source': 0, 'target': 98, 'opacity': 0.03032906912267208}, {'source': 1, 'target': 80, 'opacity': 0.049045659601688385}, {'source': 1, 'target': 57, 'opacity': 0.04070887342095375}, {'source': 1, 'target': 98, 'opacity': 0.03032906912267208}, {'source': 2, 'target': 80, 'opacity': 0.049045659601688385}, {'source': 2, 'target': 57, 'opacity': 0.04070887342095375}, {'source': 2, 'target': 98, 'opacity': 0.03032906912267208}, {'source': 3, 'target': 80, 'opacity': 0.049045659601688385}, {'source': 3, 'target': 57, 'opacity': 0.04070887342095375}, {'source': 3, 'target': 98, 'opacity': 0.03032906912267208}, {'source': 4, 'target': 80, 'opacity': 0.049045659601688385}, {'source': 4, 'target': 57, 'opacity': 0.04070887342095375}, {'source': 4, 'target': 98, 'opacity': 0.03032906912267208}, {'source': 5, 'target': 80, 'opacity': 0.049045659601688385}, {'source': 5, 'target': 57, 'opacity': 0.04070887342095375}, {'source': 5, 'target': 98, 'opacity': 0.03032906912267208}, {'source': 6, 'target': 80, 'opacity': 0.049045659601688385}, {'source': 6, 'target': 57, 'opacity': 0.04070887342095375}, {'source': 6, 'target': 98, 'opacity': 0.03032906912267208}, {'source': 7, 'target': 80, 'opacity': 0.049045659601688385}, {'source': 7, 'target': 57, 'opacity': 0.04070887342095375}, {'source': 7, 'target': 98, 'opacity': 0.03032906912267208}, {'source': 8, 'target': 80, 'opacity': 0.049045659601688385}, {'source': 8, 'target': 57, 'opacity': 0.04070887342095375}, {'source': 8, 'target': 98, 'opacity': 0.03032906912267208}, {'source': 9, 'target': 80, 'opacity': 0.049045659601688385}, {'source': 9, 'target': 57, 'opacity': 0.04070887342095375}, {'source': 9, 'target': 98, 'opacity': 0.03032906912267208}, {'source': 10, 'target': 80, 'opacity': 0.049045659601688385}, {'source': 10, 'target': 57, 'opacity': 0.04070887342095375}, {'source': 10, 'target': 98, 'opacity': 0.03032906912267208}, {'source': 11, 'target': 80, 'opacity': 0.049045659601688385}, {'source': 11, 'target': 57, 'opacity': 0.04070887342095375}, {'source': 11, 'target': 98, 'opacity': 0.03032906912267208}, {'source': 12, 'target': 80, 'opacity': 0.049045659601688385}, {'source': 12, 'target': 57, 'opacity': 0.04070887342095375}, {'source': 12, 'target': 98, 'opacity': 0.03032906912267208}, {'source': 13, 'target': 80, 'opacity': 0.049045659601688385}, {'source': 13, 'target': 57, 'opacity': 0.04070887342095375}, {'source': 13, 'target': 98, 'opacity': 0.03032906912267208}, {'source': 14, 'target': 80, 'opacity': 0.049045659601688385}, {'source': 14, 'target': 57, 'opacity': 0.04070887342095375}, {'source': 14, 'target': 98, 'opacity': 0.03032906912267208}, {'source': 15, 'target': 80, 'opacity': 0.049045659601688385}, {'source': 15, 'target': 57, 'opacity': 0.04070887342095375}, {'source': 15, 'target': 98, 'opacity': 0.03032906912267208}, {'source': 16, 'target': 80, 'opacity': 0.049045659601688385}, {'source': 16, 'target': 57, 'opacity': 0.04070887342095375}, {'source': 16, 'target': 98, 'opacity': 0.03032906912267208}, {'source': 17, 'target': 80, 'opacity': 0.049045659601688385}, {'source': 17, 'target': 57, 'opacity': 0.04070887342095375}, {'source': 17, 'target': 98, 'opacity': 0.03032906912267208}, {'source': 18, 'target': 80, 'opacity': 0.049045659601688385}, {'source': 18, 'target': 57, 'opacity': 0.04070887342095375}, {'source': 18, 'target': 98, 'opacity': 0.03032906912267208}, {'source': 19, 'target': 80, 'opacity': 0.049045659601688385}, {'source': 19, 'target': 57, 'opacity': 0.04070887342095375}, {'source': 19, 'target': 98, 'opacity': 0.03032906912267208}, {'source': 20, 'target': 80, 'opacity': 0.049045659601688385}, {'source': 20, 'target': 57, 'opacity': 0.04070887342095375}, {'source': 20, 'target': 98, 'opacity': 0.03032906912267208}, {'source': 21, 'target': 80, 'opacity': 0.049045659601688385}, {'source': 21, 'target': 57, 'opacity': 0.04070887342095375}, {'source': 21, 'target': 98, 'opacity': 0.03032906912267208}, {'source': 22, 'target': 80, 'opacity': 0.049045659601688385}, {'source': 22, 'target': 57, 'opacity': 0.04070887342095375}, {'source': 22, 'target': 98, 'opacity': 0.03032906912267208}, {'source': 23, 'target': 80, 'opacity': 0.049045659601688385}, {'source': 23, 'target': 57, 'opacity': 0.04070887342095375}, {'source': 23, 'target': 98, 'opacity': 0.03032906912267208}, {'source': 24, 'target': 80, 'opacity': 0.049045659601688385}, {'source': 24, 'target': 57, 'opacity': 0.04070887342095375}, {'source': 24, 'target': 98, 'opacity': 0.03032906912267208}, {'source': 25, 'target': 80, 'opacity': 0.049045659601688385}, {'source': 25, 'target': 57, 'opacity': 0.04070887342095375}, {'source': 25, 'target': 98, 'opacity': 0.03032906912267208}, {'source': 26, 'target': 80, 'opacity': 0.049045659601688385}, {'source': 26, 'target': 57, 'opacity': 0.04070887342095375}, {'source': 26, 'target': 98, 'opacity': 0.03032906912267208}, {'source': 27, 'target': 80, 'opacity': 0.049045659601688385}, {'source': 27, 'target': 57, 'opacity': 0.04070887342095375}, {'source': 27, 'target': 98, 'opacity': 0.03032906912267208}, {'source': 28, 'target': 80, 'opacity': 0.049045659601688385}, {'source': 28, 'target': 57, 'opacity': 0.04070887342095375}, {'source': 28, 'target': 98, 'opacity': 0.03032906912267208}, {'source': 29, 'target': 80, 'opacity': 0.049045659601688385}, {'source': 29, 'target': 57, 'opacity': 0.04070887342095375}, {'source': 29, 'target': 98, 'opacity': 0.03032906912267208}, {'source': 30, 'target': 80, 'opacity': 0.049045659601688385}, {'source': 30, 'target': 57, 'opacity': 0.04070887342095375}, {'source': 30, 'target': 98, 'opacity': 0.03032906912267208}, {'source': 31, 'target': 80, 'opacity': 0.049045659601688385}, {'source': 31, 'target': 57, 'opacity': 0.04070887342095375}, {'source': 31, 'target': 98, 'opacity': 0.03032906912267208}, {'source': 32, 'target': 80, 'opacity': 0.049045659601688385}, {'source': 32, 'target': 57, 'opacity': 0.04070887342095375}, {'source': 32, 'target': 98, 'opacity': 0.03032906912267208}, {'source': 33, 'target': 80, 'opacity': 0.049045659601688385}, {'source': 33, 'target': 57, 'opacity': 0.04070887342095375}, {'source': 33, 'target': 98, 'opacity': 0.03032906912267208}, {'source': 34, 'target': 80, 'opacity': 0.049045659601688385}, {'source': 34, 'target': 57, 'opacity': 0.04070887342095375}, {'source': 34, 'target': 98, 'opacity': 0.03032906912267208}, {'source': 35, 'target': 80, 'opacity': 0.049045659601688385}, {'source': 35, 'target': 57, 'opacity': 0.04070887342095375}, {'source': 35, 'target': 98, 'opacity': 0.03032906912267208}, {'source': 36, 'target': 80, 'opacity': 0.049045659601688385}, {'source': 36, 'target': 57, 'opacity': 0.04070887342095375}, {'source': 36, 'target': 98, 'opacity': 0.03032906912267208}, {'source': 37, 'target': 80, 'opacity': 0.049045659601688385}, {'source': 37, 'target': 57, 'opacity': 0.04070887342095375}, {'source': 37, 'target': 98, 'opacity': 0.03032906912267208}, {'source': 38, 'target': 80, 'opacity': 0.049045659601688385}, {'source': 38, 'target': 57, 'opacity': 0.04070887342095375}, {'source': 38, 'target': 98, 'opacity': 0.03032906912267208}, {'source': 39, 'target': 80, 'opacity': 0.049045659601688385}, {'source': 39, 'target': 57, 'opacity': 0.04070887342095375}, {'source': 39, 'target': 98, 'opacity': 0.03032906912267208}, {'source': 40, 'target': 80, 'opacity': 0.049045659601688385}, {'source': 40, 'target': 57, 'opacity': 0.04070887342095375}, {'source': 40, 'target': 98, 'opacity': 0.03032906912267208}, {'source': 41, 'target': 80, 'opacity': 0.049045659601688385}, {'source': 41, 'target': 57, 'opacity': 0.04070887342095375}, {'source': 41, 'target': 98, 'opacity': 0.03032906912267208}, {'source': 42, 'target': 80, 'opacity': 0.049045659601688385}, {'source': 42, 'target': 57, 'opacity': 0.04070887342095375}, {'source': 42, 'target': 98, 'opacity': 0.03032906912267208}, {'source': 43, 'target': 80, 'opacity': 0.049045659601688385}, {'source': 43, 'target': 57, 'opacity': 0.04070887342095375}, {'source': 43, 'target': 98, 'opacity': 0.03032906912267208}, {'source': 44, 'target': 80, 'opacity': 0.049045659601688385}, {'source': 44, 'target': 57, 'opacity': 0.04070887342095375}, {'source': 44, 'target': 98, 'opacity': 0.03032906912267208}, {'source': 45, 'target': 80, 'opacity': 0.049045659601688385}, {'source': 45, 'target': 57, 'opacity': 0.04070887342095375}, {'source': 45, 'target': 98, 'opacity': 0.03032906912267208}, {'source': 46, 'target': 80, 'opacity': 0.049045659601688385}, {'source': 46, 'target': 57, 'opacity': 0.04070887342095375}, {'source': 46, 'target': 98, 'opacity': 0.03032906912267208}, {'source': 47, 'target': 80, 'opacity': 0.049045659601688385}, {'source': 47, 'target': 57, 'opacity': 0.04070887342095375}, {'source': 47, 'target': 98, 'opacity': 0.03032906912267208}, {'source': 48, 'target': 80, 'opacity': 0.049045659601688385}, {'source': 48, 'target': 57, 'opacity': 0.04070887342095375}, {'source': 48, 'target': 98, 'opacity': 0.03032906912267208}, {'source': 49, 'target': 80, 'opacity': 0.049045659601688385}, {'source': 49, 'target': 57, 'opacity': 0.04070887342095375}, {'source': 49, 'target': 98, 'opacity': 0.03032906912267208}, {'source': 50, 'target': 80, 'opacity': 0.049045659601688385}, {'source': 50, 'target': 57, 'opacity': 0.04070887342095375}, {'source': 50, 'target': 98, 'opacity': 0.03032906912267208}, {'source': 51, 'target': 80, 'opacity': 0.049045659601688385}, {'source': 51, 'target': 57, 'opacity': 0.04070887342095375}, {'source': 51, 'target': 98, 'opacity': 0.03032906912267208}, {'source': 52, 'target': 80, 'opacity': 0.049045659601688385}, {'source': 52, 'target': 57, 'opacity': 0.04070887342095375}, {'source': 52, 'target': 98, 'opacity': 0.03032906912267208}, {'source': 53, 'target': 80, 'opacity': 0.049045659601688385}, {'source': 53, 'target': 57, 'opacity': 0.04070887342095375}, {'source': 53, 'target': 98, 'opacity': 0.03032906912267208}, {'source': 54, 'target': 80, 'opacity': 0.049045659601688385}, {'source': 54, 'target': 57, 'opacity': 0.04070887342095375}, {'source': 54, 'target': 98, 'opacity': 0.03032906912267208}, {'source': 55, 'target': 80, 'opacity': 0.049045659601688385}, {'source': 55, 'target': 57, 'opacity': 0.04070887342095375}, {'source': 55, 'target': 98, 'opacity': 0.03032906912267208}, {'source': 56, 'target': 80, 'opacity': 0.049045659601688385}, {'source': 56, 'target': 57, 'opacity': 0.04070887342095375}, {'source': 56, 'target': 98, 'opacity': 0.03032906912267208}, {'source': 57, 'target': 80, 'opacity': 0.049045659601688385}, {'source': 57, 'target': 57, 'opacity': 0.04070887342095375}, {'source': 57, 'target': 98, 'opacity': 0.03032906912267208}, {'source': 58, 'target': 80, 'opacity': 0.049045659601688385}, {'source': 58, 'target': 57, 'opacity': 0.04070887342095375}, {'source': 58, 'target': 98, 'opacity': 0.03032906912267208}, {'source': 59, 'target': 80, 'opacity': 0.049045659601688385}, {'source': 59, 'target': 57, 'opacity': 0.04070887342095375}, {'source': 59, 'target': 98, 'opacity': 0.03032906912267208}, {'source': 60, 'target': 80, 'opacity': 0.049045659601688385}, {'source': 60, 'target': 57, 'opacity': 0.04070887342095375}, {'source': 60, 'target': 98, 'opacity': 0.03032906912267208}, {'source': 61, 'target': 80, 'opacity': 0.049045659601688385}, {'source': 61, 'target': 57, 'opacity': 0.04070887342095375}, {'source': 61, 'target': 98, 'opacity': 0.03032906912267208}, {'source': 62, 'target': 80, 'opacity': 0.049045659601688385}, {'source': 62, 'target': 57, 'opacity': 0.04070887342095375}, {'source': 62, 'target': 98, 'opacity': 0.03032906912267208}, {'source': 63, 'target': 80, 'opacity': 0.049045659601688385}, {'source': 63, 'target': 57, 'opacity': 0.04070887342095375}, {'source': 63, 'target': 98, 'opacity': 0.03032906912267208}, {'source': 64, 'target': 80, 'opacity': 0.049045659601688385}, {'source': 64, 'target': 57, 'opacity': 0.04070887342095375}, {'source': 64, 'target': 98, 'opacity': 0.03032906912267208}, {'source': 65, 'target': 80, 'opacity': 0.049045659601688385}, {'source': 65, 'target': 57, 'opacity': 0.04070887342095375}, {'source': 65, 'target': 98, 'opacity': 0.03032906912267208}, {'source': 66, 'target': 80, 'opacity': 0.049045659601688385}, {'source': 66, 'target': 57, 'opacity': 0.04070887342095375}, {'source': 66, 'target': 98, 'opacity': 0.03032906912267208}, {'source': 67, 'target': 80, 'opacity': 0.049045659601688385}, {'source': 67, 'target': 57, 'opacity': 0.04070887342095375}, {'source': 67, 'target': 98, 'opacity': 0.03032906912267208}, {'source': 68, 'target': 80, 'opacity': 0.049045659601688385}, {'source': 68, 'target': 57, 'opacity': 0.04070887342095375}, {'source': 68, 'target': 98, 'opacity': 0.03032906912267208}, {'source': 69, 'target': 80, 'opacity': 0.049045659601688385}, {'source': 69, 'target': 57, 'opacity': 0.04070887342095375}, {'source': 69, 'target': 98, 'opacity': 0.03032906912267208}, {'source': 70, 'target': 80, 'opacity': 0.049045659601688385}, {'source': 70, 'target': 57, 'opacity': 0.04070887342095375}, {'source': 70, 'target': 98, 'opacity': 0.03032906912267208}, {'source': 71, 'target': 80, 'opacity': 0.049045659601688385}, {'source': 71, 'target': 57, 'opacity': 0.04070887342095375}, {'source': 71, 'target': 98, 'opacity': 0.03032906912267208}, {'source': 72, 'target': 80, 'opacity': 0.049045659601688385}, {'source': 72, 'target': 57, 'opacity': 0.04070887342095375}, {'source': 72, 'target': 98, 'opacity': 0.03032906912267208}, {'source': 73, 'target': 80, 'opacity': 0.049045659601688385}, {'source': 73, 'target': 57, 'opacity': 0.04070887342095375}, {'source': 73, 'target': 98, 'opacity': 0.03032906912267208}, {'source': 74, 'target': 80, 'opacity': 0.049045659601688385}, {'source': 74, 'target': 57, 'opacity': 0.04070887342095375}, {'source': 74, 'target': 98, 'opacity': 0.03032906912267208}, {'source': 75, 'target': 80, 'opacity': 0.049045659601688385}, {'source': 75, 'target': 57, 'opacity': 0.04070887342095375}, {'source': 75, 'target': 98, 'opacity': 0.03032906912267208}, {'source': 76, 'target': 80, 'opacity': 0.049045659601688385}, {'source': 76, 'target': 57, 'opacity': 0.04070887342095375}, {'source': 76, 'target': 98, 'opacity': 0.03032906912267208}, {'source': 77, 'target': 80, 'opacity': 0.049045659601688385}, {'source': 77, 'target': 57, 'opacity': 0.04070887342095375}, {'source': 77, 'target': 98, 'opacity': 0.03032906912267208}, {'source': 78, 'target': 80, 'opacity': 0.049045659601688385}, {'source': 78, 'target': 57, 'opacity': 0.04070887342095375}, {'source': 78, 'target': 98, 'opacity': 0.03032906912267208}, {'source': 79, 'target': 80, 'opacity': 0.049045659601688385}, {'source': 79, 'target': 57, 'opacity': 0.04070887342095375}, {'source': 79, 'target': 98, 'opacity': 0.03032906912267208}, {'source': 80, 'target': 80, 'opacity': 0.049045659601688385}, {'source': 80, 'target': 57, 'opacity': 0.04070887342095375}, {'source': 80, 'target': 98, 'opacity': 0.03032906912267208}, {'source': 81, 'target': 80, 'opacity': 0.049045659601688385}, {'source': 81, 'target': 57, 'opacity': 0.04070887342095375}, {'source': 81, 'target': 98, 'opacity': 0.03032906912267208}, {'source': 82, 'target': 80, 'opacity': 0.049045659601688385}, {'source': 82, 'target': 57, 'opacity': 0.04070887342095375}, {'source': 82, 'target': 98, 'opacity': 0.03032906912267208}, {'source': 83, 'target': 80, 'opacity': 0.049045659601688385}, {'source': 83, 'target': 57, 'opacity': 0.04070887342095375}, {'source': 83, 'target': 98, 'opacity': 0.03032906912267208}, {'source': 84, 'target': 80, 'opacity': 0.049045659601688385}, {'source': 84, 'target': 57, 'opacity': 0.04070887342095375}, {'source': 84, 'target': 98, 'opacity': 0.03032906912267208}, {'source': 85, 'target': 80, 'opacity': 0.049045659601688385}, {'source': 85, 'target': 57, 'opacity': 0.04070887342095375}, {'source': 85, 'target': 98, 'opacity': 0.03032906912267208}, {'source': 86, 'target': 80, 'opacity': 0.049045659601688385}, {'source': 86, 'target': 57, 'opacity': 0.04070887342095375}, {'source': 86, 'target': 98, 'opacity': 0.03032906912267208}, {'source': 87, 'target': 80, 'opacity': 0.049045659601688385}, {'source': 87, 'target': 57, 'opacity': 0.04070887342095375}, {'source': 87, 'target': 98, 'opacity': 0.03032906912267208}, {'source': 88, 'target': 80, 'opacity': 0.049045659601688385}, {'source': 88, 'target': 57, 'opacity': 0.04070887342095375}, {'source': 88, 'target': 98, 'opacity': 0.03032906912267208}, {'source': 89, 'target': 80, 'opacity': 0.049045659601688385}, {'source': 89, 'target': 57, 'opacity': 0.04070887342095375}, {'source': 89, 'target': 98, 'opacity': 0.03032906912267208}, {'source': 90, 'target': 80, 'opacity': 0.049045659601688385}, {'source': 90, 'target': 57, 'opacity': 0.04070887342095375}, {'source': 90, 'target': 98, 'opacity': 0.03032906912267208}, {'source': 91, 'target': 80, 'opacity': 0.049045659601688385}, {'source': 91, 'target': 57, 'opacity': 0.04070887342095375}, {'source': 91, 'target': 98, 'opacity': 0.03032906912267208}, {'source': 92, 'target': 80, 'opacity': 0.049045659601688385}, {'source': 92, 'target': 57, 'opacity': 0.04070887342095375}, {'source': 92, 'target': 98, 'opacity': 0.03032906912267208}, {'source': 93, 'target': 80, 'opacity': 0.049045659601688385}, {'source': 93, 'target': 57, 'opacity': 0.04070887342095375}, {'source': 93, 'target': 98, 'opacity': 0.03032906912267208}, {'source': 94, 'target': 80, 'opacity': 0.049045659601688385}, {'source': 94, 'target': 57, 'opacity': 0.04070887342095375}, {'source': 94, 'target': 98, 'opacity': 0.03032906912267208}, {'source': 95, 'target': 80, 'opacity': 0.049045659601688385}, {'source': 95, 'target': 57, 'opacity': 0.04070887342095375}, {'source': 95, 'target': 98, 'opacity': 0.03032906912267208}, {'source': 96, 'target': 80, 'opacity': 0.049045659601688385}, {'source': 96, 'target': 57, 'opacity': 0.04070887342095375}, {'source': 96, 'target': 98, 'opacity': 0.03032906912267208}, {'source': 97, 'target': 80, 'opacity': 0.049045659601688385}, {'source': 97, 'target': 57, 'opacity': 0.04070887342095375}, {'source': 97, 'target': 98, 'opacity': 0.03032906912267208}, {'source': 98, 'target': 80, 'opacity': 0.049045659601688385}, {'source': 98, 'target': 57, 'opacity': 0.04070887342095375}, {'source': 98, 'target': 98, 'opacity': 0.03032906912267208}, {'source': 99, 'target': 80, 'opacity': 0.049045659601688385}, {'source': 99, 'target': 57, 'opacity': 0.04070887342095375}, {'source': 99, 'target': 98, 'opacity': 0.03032906912267208}]\n"
     ]
    }
   ],
   "source": [
    "print (links)"
   ]
  },
  {
   "cell_type": "code",
   "execution_count": 65,
   "id": "fe071889-3b9d-44c5-98d3-e699a4225cf8",
   "metadata": {},
   "outputs": [
    {
     "data": {
      "text/plain": [
       "tensor([19, 76, 80, 94, 44, 98, 88, 79, 65, 69])"
      ]
     },
     "execution_count": 65,
     "metadata": {},
     "output_type": "execute_result"
    }
   ],
   "source": [
    "torch.topk(graph.B[uid][:n], 10)[1]"
   ]
  },
  {
   "cell_type": "code",
   "execution_count": null,
   "id": "b8873cb1-4230-4a02-8fff-c2ef058780c2",
   "metadata": {},
   "outputs": [],
   "source": []
  }
 ],
 "metadata": {
  "kernelspec": {
   "display_name": "Python 3 (ipykernel)",
   "language": "python",
   "name": "python3"
  },
  "language_info": {
   "codemirror_mode": {
    "name": "ipython",
    "version": 3
   },
   "file_extension": ".py",
   "mimetype": "text/x-python",
   "name": "python",
   "nbconvert_exporter": "python",
   "pygments_lexer": "ipython3",
   "version": "3.8.12"
  }
 },
 "nbformat": 4,
 "nbformat_minor": 5
}
