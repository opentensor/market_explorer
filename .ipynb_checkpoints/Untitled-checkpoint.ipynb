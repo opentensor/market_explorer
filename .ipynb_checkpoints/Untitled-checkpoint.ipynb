{
 "cells": [
  {
   "cell_type": "code",
   "execution_count": 3,
   "id": "b09bbf1b-e0a3-446c-9a68-f2a2c47a97fe",
   "metadata": {},
   "outputs": [],
   "source": [
    "import os\n",
    "import pandas as pd\n",
    "import plotly.express as px\n",
    "\n",
    "# load data.\n",
    "df = pd.read_pickle( os.path.expanduser('~/data/all_blocks.pd') )\n",
    "df = df.sort_index()\n"
   ]
  },
  {
   "cell_type": "code",
   "execution_count": 19,
   "id": "2bf3fc2e-b7bb-4d10-b684-4474abc3c6cf",
   "metadata": {},
   "outputs": [
    {
     "ename": "SyntaxError",
     "evalue": "invalid syntax (<ipython-input-19-da480ceefc86>, line 15)",
     "output_type": "error",
     "traceback": [
      "\u001b[0;36m  File \u001b[0;32m\"<ipython-input-19-da480ceefc86>\"\u001b[0;36m, line \u001b[0;32m15\u001b[0m\n\u001b[0;31m    \"coordinates\": [float(info['loc'].split(',')[0]), float(info['loc'].split(',')[1])]\u001b[0m\n\u001b[0m                 ^\u001b[0m\n\u001b[0;31mSyntaxError\u001b[0m\u001b[0;31m:\u001b[0m invalid syntax\n"
     ]
    }
   ],
   "source": [
    "from urllib.request import urlopen\n",
    "from json import load\n",
    "def ipInfo(addr=''):\n",
    "    url = 'https://ipinfo.io/' + addr + '/json'\n",
    "    res = urlopen(url)\n",
    "    data = load(res)\n",
    "    return data\n",
    "\n",
    "def ipToGeoJson(ip):\n",
    "    info = ipInfo(ip)\n",
    "    data = {}\n",
    "    data[\"type\"] = \"Feature\"\n",
    "    data['geometry'] = {\n",
    "        \"type\": \"Point\",\n",
    "        \"coordinates\": [float(info['loc'].split(',')[0]), float(info['loc'].split(',')[1])]\n",
    "    }\n",
    "    data['properties'] = {\"name\": 'empty'}\n",
    "    return data\n",
    "    \n"
   ]
  },
  {
   "cell_type": "code",
   "execution_count": 20,
   "id": "8ea5adb6-b2f0-4148-aa79-181c6f8a1c76",
   "metadata": {},
   "outputs": [
    {
     "ename": "NameError",
     "evalue": "name 'ipToGeoJson' is not defined",
     "output_type": "error",
     "traceback": [
      "\u001b[0;31m---------------------------------------------------------------------------\u001b[0m",
      "\u001b[0;31mNameError\u001b[0m                                 Traceback (most recent call last)",
      "\u001b[0;32m<ipython-input-20-94068182d01d>\u001b[0m in \u001b[0;36m<module>\u001b[0;34m\u001b[0m\n\u001b[0;32m----> 1\u001b[0;31m \u001b[0mipToGeoJson\u001b[0m\u001b[0;34m(\u001b[0m\u001b[0;34m'178.18.242.134'\u001b[0m\u001b[0;34m)\u001b[0m\u001b[0;34m\u001b[0m\u001b[0;34m\u001b[0m\u001b[0m\n\u001b[0m",
      "\u001b[0;31mNameError\u001b[0m: name 'ipToGeoJson' is not defined"
     ]
    }
   ],
   "source": [
    "ipToGeoJson('178.18.242.134')"
   ]
  },
  {
   "cell_type": "code",
   "execution_count": 7,
   "id": "9897cd4c-1371-45dd-814f-08ed8b23a59d",
   "metadata": {},
   "outputs": [
    {
     "data": {
      "text/plain": [
       "0        178.18.242.134\n",
       "1        159.65.230.244\n",
       "2       143.244.179.188\n",
       "3        143.244.180.81\n",
       "4        178.18.242.138\n",
       "             ...       \n",
       "1229     207.244.230.60\n",
       "1230    144.126.145.232\n",
       "1231    162.212.153.241\n",
       "1232      66.94.104.172\n",
       "1233    194.163.167.205\n",
       "Name: ip, Length: 1234, dtype: object"
      ]
     },
     "execution_count": 7,
     "metadata": {},
     "output_type": "execute_result"
    }
   ],
   "source": [
    "dfend = df[df.index.max()]\n",
    "\n",
    "dfend.ip"
   ]
  },
  {
   "cell_type": "code",
   "execution_count": null,
   "id": "74026c95-25d2-4845-825f-6c506639f510",
   "metadata": {},
   "outputs": [],
   "source": [
    "fig = px.scatter_geo(df, locations=\"iso_alpha\", color=\"continent\",\n",
    "                     hover_name=\"country\", size=\"pop\",\n",
    "                     projection=\"natural earth\")\n",
    "fig.show()\n",
    "B"
   ]
  }
 ],
 "metadata": {
  "kernelspec": {
   "display_name": "Python 3 (ipykernel)",
   "language": "python",
   "name": "python3"
  },
  "language_info": {
   "codemirror_mode": {
    "name": "ipython",
    "version": 3
   },
   "file_extension": ".py",
   "mimetype": "text/x-python",
   "name": "python",
   "nbconvert_exporter": "python",
   "pygments_lexer": "ipython3",
   "version": "3.8.12"
  }
 },
 "nbformat": 4,
 "nbformat_minor": 5
}
