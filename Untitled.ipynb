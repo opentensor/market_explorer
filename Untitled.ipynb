{
 "cells": [
  {
   "cell_type": "code",
   "execution_count": 19,
   "metadata": {},
   "outputs": [],
   "source": [
    "import os\n",
    "import bittensor\n",
    "import pandas as pd\n",
    "from tqdm import tqdm\n",
    "from concurrent.futures import ThreadPoolExecutor\n",
    "\n",
    "files = os.listdir(os.path.expanduser('~'))\n",
    "\n",
    "frames = {}\n",
    "def load_graph_file( filename ):\n",
    "    block = int(filename.split('-')[1])\n",
    "    graph = bittensor.metagraph().load_from_path( os.path.expanduser( '~/{}'.format(filename) ) )\n",
    "    dataframe = pd.DataFrame(columns=['uid', 'active', 'stake','rank','trust', 'consensus', 'incentive', 'dividends', 'emission'], index=graph.uids.tolist())\n",
    "    for uid in graph.uids.tolist():\n",
    "        dataframe.loc[uid] = pd.Series({\n",
    "                'uid':uid, \n",
    "                'active': graph.active[uid].item(), \n",
    "                'stake':graph.S[uid].item(), \n",
    "                'rank':graph.R[uid].item(), \n",
    "                'trust':graph.T[uid].item(), \n",
    "                'consensus':graph.C[uid].item(), \n",
    "                'incentive':graph.I[uid].item(), \n",
    "                'dividends':graph.D[uid].item(), \n",
    "                'emission':graph.E[uid].item(),\n",
    "            })\n",
    "        frames[block] = dataframe\n",
    "\n"
   ]
  },
  {
   "cell_type": "code",
   "execution_count": 20,
   "metadata": {},
   "outputs": [
    {
     "name": "stderr",
     "output_type": "stream",
     "text": [
      "100%|██████████| 10/10 [00:00<00:00, 2080.30it/s]\n"
     ]
    }
   ],
   "source": [
    "with ThreadPoolExecutor(max_workers=100) as executor:\n",
    "    for filename in tqdm(files[:10]):\n",
    "        if filename[:4] == 'naka':\n",
    "            executor.submit(load_graph_file, filename)"
   ]
  },
  {
   "cell_type": "code",
   "execution_count": 21,
   "metadata": {},
   "outputs": [],
   "source": [
    "blocks = pd.Series([f for f in frames.values()], index=frames.keys())"
   ]
  },
  {
   "cell_type": "code",
   "execution_count": 42,
   "metadata": {},
   "outputs": [
    {
     "name": "stdout",
     "output_type": "stream",
     "text": [
      "0.0\n",
      "0.0\n",
      "0.0\n",
      "5.262375069037262e-08\n",
      "0.0\n",
      "0.0\n"
     ]
    }
   ],
   "source": [
    "for b in blocks:\n",
    "    print (b['rank'][2])\n",
    "    "
   ]
  },
  {
   "cell_type": "code",
   "execution_count": null,
   "metadata": {},
   "outputs": [],
   "source": []
  }
 ],
 "metadata": {
  "kernelspec": {
   "display_name": "Python 3 (ipykernel)",
   "language": "python",
   "name": "python3"
  },
  "language_info": {
   "codemirror_mode": {
    "name": "ipython",
    "version": 3
   },
   "file_extension": ".py",
   "mimetype": "text/x-python",
   "name": "python",
   "nbconvert_exporter": "python",
   "pygments_lexer": "ipython3",
   "version": "3.8.12"
  }
 },
 "nbformat": 4,
 "nbformat_minor": 4
}
